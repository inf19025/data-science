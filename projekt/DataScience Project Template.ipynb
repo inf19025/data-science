{
 "cells": [
  {
   "cell_type": "markdown",
   "metadata": {},
   "source": [
    "# Project Title\n",
    "###  Linus Tech Tips Forum Cinebench Ergebnisse (Max Hammer, Date)\n",
    "\n",
    "#### Project Summary\n",
    "--describe your project at a high level--\n",
    "\n",
    "The project follows the follow steps:\n",
    "* Step 1: Scope the Project and Gather Data\n",
    "* Step 2: Explore and Assess the Data (perform EDA, provide error handlings, unit tests, data quality tests, etc)\n",
    "* Step 3: Define the Data Model/ Null/Alternative Hypothesis\n",
    "* Step 4: Show the Model of  Data and any conclutions\n",
    "* Step 5: Complete Project Write Up"
   ]
  },
  {
   "cell_type": "code",
   "execution_count": 1,
   "metadata": {},
   "outputs": [],
   "source": [
    "# Do all imports and installs here\n",
    "import pandas as pd\n",
    "import numpy as np\n",
    "import matplotlib.pyplot as plt\n",
    "import seaborn as sns\n",
    "import re\n",
    "import unittest\n",
    "import datetime"
   ]
  },
  {
   "cell_type": "markdown",
   "metadata": {},
   "source": [
    "### Step 1: Scope the Project and Gather Data\n",
    "\n",
    "#### Scope \n",
    "Explain what you plan to do in the project in more detail. What data do you use? What is your end solution look like? What tools did you use? etc>\n",
    "\n",
    "#### Describe and Gather Data \n",
    "Describe the data sets you're using. Where did it come from? What type of information is included? "
   ]
  },
  {
   "cell_type": "code",
   "execution_count": 2,
   "metadata": {},
   "outputs": [],
   "source": [
    "# Read in the data here\n",
    "multithread_data = pd.read_csv(\"Linus tech tips Cinebench R15 scores - CPU muti thread.csv\")\n",
    "singlethread_data = pd.read_csv(\"Linus tech tips Cinebench R15 scores - CPU single thread.csv\")\n",
    "\n",
    "cpu_data = pd.read_csv(\"cpus.csv\")"
   ]
  },
  {
   "cell_type": "code",
   "execution_count": 3,
   "metadata": {},
   "outputs": [],
   "source": [
    "# remove unnecessary columns\n",
    "multithread_data = multithread_data.drop([\"Name\", \"extra info\"], axis=1)\n",
    "singlethread_data = singlethread_data.drop([\"Name\", \"Extra Info\"], axis=1)\n",
    "cpu_data = cpu_data.drop(\"Unnamed: 0\", axis=1)"
   ]
  },
  {
   "cell_type": "code",
   "execution_count": 4,
   "metadata": {},
   "outputs": [
    {
     "name": "stdout",
     "output_type": "stream",
     "text": [
      "Core i9-9900K\n",
      "Ryzen Threadripper 1950X\n",
      "      Position                 CPU Clock Speed  Score (cb)\n",
      "0            1  Xeon Platinum 8168     3.49ghz        8205\n",
      "1            2           Epyc 7601      2.2ghz        6873\n",
      "2            3        Xeon 8357 V3      2.5ghz        6139\n",
      "3            4  Xeon Platinum 8168      2.7ghz        5926\n",
      "4            5     Xeon E5 2696 V4      2.2ghz        5713\n",
      "...        ...                 ...         ...         ...\n",
      "1500      1502             A6 1450        1ghz          35\n",
      "1501      1503               E-300      1.3ghz          31\n",
      "1502      1504       Sempron 3000+    1.795ghz          23\n",
      "1503      1505           Atom N450    1.667ghz          22\n",
      "1504      1506                C-50    1.013ghz          20\n",
      "\n",
      "[1505 rows x 4 columns]\n"
     ]
    }
   ],
   "source": [
    "# map the names from the ltt forum to the name format from techpowerup\n",
    "def map_intel_name(name):\n",
    "  template = \"Core {}-{}\"\n",
    "  split = name.split(' ')\n",
    "  return template.format(split[2].lower(), split[3])\n",
    "\n",
    "def multiprocessor_remove(name):\n",
    "  return name.split('x ')[1]\n",
    "\n",
    "def remove_amd(name):\n",
    "  return name.split('AMD ')[1]\n",
    "\n",
    "def remove_intel(name):\n",
    "  return name.split('Intel ')[1]\n",
    "\n",
    "def format_epy(name):\n",
    "  return \"EPYC {}\".format(name.split('Epyc ')[1])\n",
    "\n",
    "def map_name(name):\n",
    "  intel_core = re.compile('Intel Core I\\d')\n",
    "  multiprocessor = re.compile('^\\dx')\n",
    "  amd = re.compile('^AMD')\n",
    "  intel = re.compile('^Intel')\n",
    "  epys = re.compile('^Epyc')\n",
    "  if intel_core.match(name):\n",
    "    return map_intel_name(name)\n",
    "  if multiprocessor.match(name):\n",
    "    name = multiprocessor_remove(name)\n",
    "  if amd.match(name):\n",
    "    name = remove_amd(name)\n",
    "  if intel.match(name):\n",
    "    name = remove_intel(name)\n",
    "  return name\n",
    "\n",
    "print(map_name(\"Intel Core I9 9900K\"))\n",
    "print(map_name(\"Ryzen Threadripper 1950X\"))\n",
    "\n",
    "multithread_data['CPU'] = multithread_data['CPU'].map(map_name)\n",
    "singlethread_data['CPU'] = singlethread_data['CPU'].map(map_name)\n",
    "\n",
    "print(multithread_data)"
   ]
  },
  {
   "cell_type": "code",
   "execution_count": 5,
   "metadata": {},
   "outputs": [],
   "source": [
    "# Sanitize clocks on cou base stats\n",
    "def remove_MHz(clk):\n",
    "  num = pd.to_numeric(clk.split(' MHz')[0])\n",
    "  return num / 1000\n",
    "\n",
    "def remove_GHz(clk):\n",
    "  return pd.to_numeric(clk.split('GHz')[0])\n",
    "\n",
    "def map_clk_speed(clk):\n",
    "  mhz_regex = re.compile('^\\d{3,} MHz$')\n",
    "  if mhz_regex.match(clk):\n",
    "    return remove_MHz(clk)\n",
    "  return remove_GHz(clk)\n",
    "\n",
    "cpu_data['minclock'] = cpu_data['minclock'].map(map_clk_speed)\n",
    "cpu_data['maxclock'] = cpu_data['maxclock'].map(map_clk_speed)\n",
    "\n",
    "cpu_data['cores'] = pd.to_numeric(cpu_data['cores'])\n",
    "cpu_data['threads'] = pd.to_numeric(cpu_data['threads'])"
   ]
  },
  {
   "cell_type": "code",
   "execution_count": 6,
   "metadata": {},
   "outputs": [],
   "source": [
    "# Remove ghz from clock speed on ltt dataset\n",
    "def remove_ghz(clk):\n",
    "  return clk.split('ghz')[0]\n",
    "\n",
    "multithread_data['Clock Speed'] = pd.to_numeric(multithread_data['Clock Speed'].map(remove_ghz))\n",
    "singlethread_data['Clock Speed'] = pd.to_numeric(singlethread_data['Clock Speed'].map(remove_ghz))"
   ]
  },
  {
   "cell_type": "code",
   "execution_count": 7,
   "metadata": {},
   "outputs": [],
   "source": [
    "# extract only year from release date\n",
    "def extract_year(date):\n",
    "  split = date.split(' ')\n",
    "  return pd.to_numeric(split[-1])\n",
    "\n",
    "cpu_data['release'] = cpu_data['release'].map(extract_year)"
   ]
  },
  {
   "cell_type": "markdown",
   "metadata": {},
   "source": [
    "### Step 2: Explore and Assess the Data\n",
    "#### Explore the Data \n",
    "Identify data quality issues, like missing values, duplicate data, etc.\n",
    "\n",
    "#### Cleaning Steps\n",
    "Document steps necessary to clean the data"
   ]
  },
  {
   "cell_type": "markdown",
   "metadata": {},
   "source": [
    "### Step 3: Define the Data Model\n",
    "#### 3.1 Conceptual Data Model\n",
    "Map out the conceptual data model and explain why you chosen that model\n",
    "\n",
    "#### 3.2 Hypothesis Tests\n",
    "provide needed statistiks with explonation and answer to your business questions for the analysis"
   ]
  },
  {
   "cell_type": "code",
   "execution_count": 8,
   "metadata": {},
   "outputs": [
    {
     "data": {
      "text/html": [
       "<div>\n",
       "<style scoped>\n",
       "    .dataframe tbody tr th:only-of-type {\n",
       "        vertical-align: middle;\n",
       "    }\n",
       "\n",
       "    .dataframe tbody tr th {\n",
       "        vertical-align: top;\n",
       "    }\n",
       "\n",
       "    .dataframe thead th {\n",
       "        text-align: right;\n",
       "    }\n",
       "</style>\n",
       "<table border=\"1\" class=\"dataframe\">\n",
       "  <thead>\n",
       "    <tr style=\"text-align: right;\">\n",
       "      <th></th>\n",
       "      <th>cpu</th>\n",
       "      <th>cores</th>\n",
       "      <th>threads</th>\n",
       "      <th>base_clk</th>\n",
       "      <th>boost_clk</th>\n",
       "      <th>oc_clk</th>\n",
       "      <th>release</th>\n",
       "      <th>oc_diff</th>\n",
       "      <th>oc_boost_diff</th>\n",
       "    </tr>\n",
       "  </thead>\n",
       "  <tbody>\n",
       "    <tr>\n",
       "      <th>0</th>\n",
       "      <td>Core i9-7920X</td>\n",
       "      <td>12.0</td>\n",
       "      <td>2.9</td>\n",
       "      <td>2.9</td>\n",
       "      <td>4.4</td>\n",
       "      <td>4.8</td>\n",
       "      <td>2017.0</td>\n",
       "      <td>1.9</td>\n",
       "      <td>0.4</td>\n",
       "    </tr>\n",
       "    <tr>\n",
       "      <th>1</th>\n",
       "      <td>Core i9-7940X</td>\n",
       "      <td>14.0</td>\n",
       "      <td>3.1</td>\n",
       "      <td>3.1</td>\n",
       "      <td>4.4</td>\n",
       "      <td>4.2</td>\n",
       "      <td>2017.0</td>\n",
       "      <td>1.1</td>\n",
       "      <td>-0.2</td>\n",
       "    </tr>\n",
       "    <tr>\n",
       "      <th>2</th>\n",
       "      <td>Core i9-7960X</td>\n",
       "      <td>16.0</td>\n",
       "      <td>2.8</td>\n",
       "      <td>2.8</td>\n",
       "      <td>4.4</td>\n",
       "      <td>4.2</td>\n",
       "      <td>2017.0</td>\n",
       "      <td>1.4</td>\n",
       "      <td>-0.2</td>\n",
       "    </tr>\n",
       "    <tr>\n",
       "      <th>3</th>\n",
       "      <td>Core i9-7920X</td>\n",
       "      <td>12.0</td>\n",
       "      <td>2.9</td>\n",
       "      <td>2.9</td>\n",
       "      <td>4.4</td>\n",
       "      <td>4.8</td>\n",
       "      <td>2017.0</td>\n",
       "      <td>1.9</td>\n",
       "      <td>0.4</td>\n",
       "    </tr>\n",
       "    <tr>\n",
       "      <th>4</th>\n",
       "      <td>Core i9-7900X</td>\n",
       "      <td>10.0</td>\n",
       "      <td>3.3</td>\n",
       "      <td>3.3</td>\n",
       "      <td>4.5</td>\n",
       "      <td>5.1</td>\n",
       "      <td>2017.0</td>\n",
       "      <td>1.8</td>\n",
       "      <td>0.6</td>\n",
       "    </tr>\n",
       "  </tbody>\n",
       "</table>\n",
       "</div>"
      ],
      "text/plain": [
       "             cpu  cores  threads  base_clk  boost_clk  oc_clk  release  \\\n",
       "0  Core i9-7920X   12.0      2.9       2.9        4.4     4.8   2017.0   \n",
       "1  Core i9-7940X   14.0      3.1       3.1        4.4     4.2   2017.0   \n",
       "2  Core i9-7960X   16.0      2.8       2.8        4.4     4.2   2017.0   \n",
       "3  Core i9-7920X   12.0      2.9       2.9        4.4     4.8   2017.0   \n",
       "4  Core i9-7900X   10.0      3.3       3.3        4.5     5.1   2017.0   \n",
       "\n",
       "   oc_diff  oc_boost_diff  \n",
       "0      1.9            0.4  \n",
       "1      1.1           -0.2  \n",
       "2      1.4           -0.2  \n",
       "3      1.9            0.4  \n",
       "4      1.8            0.6  "
      ]
     },
     "execution_count": 8,
     "metadata": {},
     "output_type": "execute_result"
    }
   ],
   "source": [
    "# Create Overclock Dataset\n",
    "overclock_data = pd.DataFrame()\n",
    "\n",
    "for idx,row in multithread_data.iterrows():\n",
    "  base_entry = cpu_data[cpu_data['name'] == row['CPU']]\n",
    "  if base_entry.empty:\n",
    "    continue\n",
    "  new_entry = {'cpu':row['CPU'], 'cores':base_entry['cores'].values[0],'threads':base_entry['minclock'].values[0], 'base_clk':base_entry['minclock'].values[0], 'boost_clk':base_entry['maxclock'].values[0], 'oc_clk':row['Clock Speed'], 'release':base_entry['release'].values[0]}\n",
    "  \n",
    "  if idx == 0:\n",
    "    overclock_data = pd.DataFrame.from_dict(new_entry)\n",
    "  else:\n",
    "    overclock_data = overclock_data.append(new_entry, ignore_index=True)\n",
    "\n",
    "overclock_data = overclock_data.assign(oc_diff=lambda x: x['oc_clk'] - x['base_clk'])\n",
    "overclock_data = overclock_data.assign(oc_boost_diff=lambda x: x['oc_clk'] - x['boost_clk'])\n",
    "overclock_data.head()\n"
   ]
  },
  {
   "cell_type": "code",
   "execution_count": 9,
   "metadata": {},
   "outputs": [
    {
     "name": "stdout",
     "output_type": "stream",
     "text": [
      "Mean of oc clock difference to base clock: 0.9476444866920153GHz\n",
      "Median of oc clock difference to base clock: 0.9476444866920153GHz\n",
      "Standard deviation oc vs base clock difference:  0.6261307376311162\n",
      "Mean of oc clock difference to boost clock: 0.5594743346007605GHz\n",
      "Median of oc clock difference to boost clock: 0.5594743346007605GHz\n",
      "Standard deviation oc vs boost clock difference:  0.6941850806142198\n"
     ]
    }
   ],
   "source": [
    "# Perform EDA\n",
    "mean_oc_diff = np.mean(overclock_data.oc_diff)\n",
    "median_oc_diff = np.mean(overclock_data.oc_diff)\n",
    "std_dev_oc_diff = np.std(overclock_data.oc_diff)\n",
    "\n",
    "mean_oc_boost_diff = np.mean(overclock_data.oc_boost_diff)\n",
    "median_oc_boost_diff = np.mean(overclock_data.oc_boost_diff)\n",
    "std_dev_oc_boost_diff = np.std(overclock_data.oc_boost_diff)\n",
    "\n",
    "print('Mean of oc clock difference to base clock: {}GHz'.format(mean_oc_diff))\n",
    "print('Median of oc clock difference to base clock: {}GHz'.format(median_oc_diff))\n",
    "print('Standard deviation oc vs base clock difference: ', std_dev_oc_diff)\n",
    "\n",
    "print('Mean of oc clock difference to boost clock: {}GHz'.format(mean_oc_boost_diff))\n",
    "print('Median of oc clock difference to boost clock: {}GHz'.format(median_oc_boost_diff))\n",
    "print('Standard deviation oc vs boost clock difference: ', std_dev_oc_boost_diff)"
   ]
  },
  {
   "cell_type": "code",
   "execution_count": 10,
   "metadata": {},
   "outputs": [
    {
     "name": "stdout",
     "output_type": "stream",
     "text": [
      "Outliers_min -0.2959999999999998\n",
      "Outliers_max 2.777\n",
      "Outliers_min_boost -1.6\n",
      "Outliers_max_boost 2.6900000000000004\n"
     ]
    }
   ],
   "source": [
    "# Show outliers\n",
    "print('Outliers_min',overclock_data.oc_diff.min())\n",
    "print('Outliers_max',overclock_data.oc_diff.max())\n",
    "\n",
    "print('Outliers_min_boost',overclock_data.oc_boost_diff.min())\n",
    "print('Outliers_max_boost',overclock_data.oc_boost_diff.max())\n",
    "\n"
   ]
  },
  {
   "cell_type": "markdown",
   "metadata": {},
   "source": [
    "### Step 4: Show your solution: the Model of  Data and any conclutions \n",
    "#### 4.1 Create graphics, any needed queris to visualise your solution\n"
   ]
  },
  {
   "cell_type": "code",
   "execution_count": 11,
   "metadata": {},
   "outputs": [
    {
     "data": {
      "image/png": "[encoded data removed]",
      "text/plain": [
       "<Figure size 1440x216 with 1 Axes>"
      ]
     },
     "metadata": {
      "needs_background": "light"
     },
     "output_type": "display_data"
    },
    {
     "data": {
      "image/png": "[encoded data removed]",
      "text/plain": [
       "<Figure size 1440x216 with 1 Axes>"
      ]
     },
     "metadata": {
      "needs_background": "light"
     },
     "output_type": "display_data"
    }
   ],
   "source": [
    "# Boxplot per year oc results\n",
    "release_years = overclock_data['release'].unique()\n",
    "release_years.sort()\n",
    "\n",
    "plt.figure(figsize=(20,3))\n",
    "plt.title('Boxplot of overclock base clock differences')\n",
    "for year in release_years:\n",
    "  plt.boxplot(overclock_data[overclock_data['release'] == year]['oc_diff'], positions=[year])\n",
    "plt.ylabel('GHz over base clock')\n",
    "plt.xlabel('Year of processor release')\n",
    "plt.show()\n",
    "\n",
    "plt.figure(figsize=(20,3))\n",
    "plt.title('Boxplot of overclock to boost clock differences')\n",
    "for year in release_years:\n",
    "  plt.boxplot(overclock_data[overclock_data['release'] == year]['oc_boost_diff'], positions=[year])\n",
    "plt.ylabel('GHz over boost clock')\n",
    "plt.xlabel('Year of processor release')\n",
    "plt.show()"
   ]
  },
  {
   "cell_type": "markdown",
   "metadata": {},
   "source": [
    "# Result interpretation\n",
    "The difference in outliers, when comparing the plots for base clock and boost clock, is mainly due to the nature of Intel's boost especially on many core processors. \n",
    "\n",
    "As an example the i9-9900K:\n",
    "  Intel advertises a boost clock ofa 5GHz, but only for a load of up to 2 cores.<br>\n",
    "  For any load of up to 4 cores, the processor's boost clock is lowered, down to 4.8GHz.<br>\n",
    "  Finally the boost clock for a load of 6 and more cores, the boost clock is 4.7GHz\n",
    "\n",
    "The data used for overclock results is about a multi core test and the many core processors are not capable of running their top boost clock on all of their cores. Even in an overclocked state. The later plot shows many outliers on the low end of the chart, these would be bad performing 7th generation high end desktop chips from Intelm like the i9 7980XE."
   ]
  },
  {
   "cell_type": "code",
   "execution_count": 12,
   "metadata": {},
   "outputs": [
    {
     "data": {
      "image/png": "[encoded data removed]",
      "text/plain": [
       "<Figure size 720x216 with 1 Axes>"
      ]
     },
     "metadata": {
      "needs_background": "light"
     },
     "output_type": "display_data"
    }
   ],
   "source": [
    "# Evolution of base clock in relation to boost clock, using the mean\n",
    "base_clocks = []\n",
    "boost_clocks = []\n",
    "oc_clocks = []\n",
    "for year in release_years:\n",
    "  base_clocks.append(overclock_data[overclock_data['release'] == year]['base_clk'].mean())\n",
    "  boost_clocks.append(overclock_data[overclock_data['release'] == year]['boost_clk'].mean())\n",
    "  oc_clocks.append(overclock_data[overclock_data['release'] == year]['oc_clk'].mean())\n",
    "\n",
    "plt.figure(figsize=(10,3))\n",
    "plt.plot(release_years,base_clocks, label='base clocks')\n",
    "plt.plot(release_years,boost_clocks, label='boost clocks')\n",
    "plt.plot(release_years, oc_clocks, label='avg overclocked clocks')\n",
    "plt.xticks(release_years)\n",
    "plt.ylabel('Clock speed in GHz')\n",
    "plt.xlabel('Years of processor release')\n",
    "plt.legend()\n",
    "plt.show()"
   ]
  },
  {
   "cell_type": "markdown",
   "metadata": {},
   "source": [
    "# Result interpretation\n",
    "This shows the trend towards more cores, which cannot sustain a high base clock due to the required power and therefore required cooling. But the graph shows at the same time, that the clock speeds for single or dual core loads continue to increase."
   ]
  },
  {
   "cell_type": "code",
   "execution_count": 14,
   "metadata": {},
   "outputs": [
    {
     "data": {
      "image/png": "[encoded data removed]",
      "text/plain": [
       "<Figure size 720x216 with 1 Axes>"
      ]
     },
     "metadata": {
      "needs_background": "light"
     },
     "output_type": "display_data"
    }
   ],
   "source": [
    "base_diff = []\n",
    "boost_diff = []\n",
    "for year in release_years:\n",
    "  base_diff.append(overclock_data[overclock_data['release'] == year]['oc_diff'].mean())\n",
    "  boost_diff.append(overclock_data[overclock_data['release'] == year]['oc_boost_diff'].mean())\n",
    "\n",
    "plt.figure(figsize=(10,3))\n",
    "plt.plot(release_years,base_diff, label='difference in base and oc clock')\n",
    "plt.plot(release_years,boost_diff, label='difference in boost and oc clock')\n",
    "plt.xticks(release_years)\n",
    "plt.ylabel('Clock speed difference in GHz')\n",
    "plt.xlabel('Years of processor release')\n",
    "plt.legend()\n",
    "plt.show()"
   ]
  },
  {
   "cell_type": "markdown",
   "metadata": {},
   "source": [
    "# Result interpretation\n",
    "\n",
    "The graph shows that, while the difference in base clock and oc clock are relatively stable, the difference between the maximum  boost clocks and the achieved overclocked results are very small.\n",
    "\n",
    "This shows a trend in the development of CPUs, that the manufacturers are pushing for the highest possible clock speeds and therefore highest possible performance. Due to thermal or power limitations, these maximum clock speeds, are not used for loads of more than 2 cores. The overclocking results, therefore show that the advertised boost clock speeds can be achieved in an all core load and aren't the ceiling. The graph also shows, that the headroom for overclocking is already very slim on modern chips. \n",
    "\n",
    "Due to the overclocking dataset being during an all-core load and the CPU stat dataset showing maximum boost, which (most of the time) gives a frequency for at most 2 cores, it would also be feasable to conclude, that newer CPUs are difficult to overclock further than their advertised maximum boost clock.\n",
    "\n",
    "Although the difference between boost and overclocked speeds seem to be very low, the workload for the overclocked results is for all cores, the CPU has access to. The advertised boost clocks, which the CPU stat dataset has is only applicable to at, most 2 cores. This means, although the results don't look like it, there is still overclocking done, because the frequency of all cores is different, than the advertised frequency for a load with the amount of cores."
   ]
  },
  {
   "cell_type": "markdown",
   "metadata": {},
   "source": [
    "#### 4.2 Data Quality Checks\n",
    "Explain the data quality checks you'll perform to ensure the dataframes. These could include:\n",
    " * Integrity constraints on the relational database (e.g., unique key, data type, etc.)\n",
    " * Unit tests for the scripts to ensure they are doing the right thing\n",
    " * Source/Count checks to ensure completeness\n",
    " \n",
    "Run Quality Checks"
   ]
  },
  {
   "cell_type": "code",
   "execution_count": null,
   "metadata": {},
   "outputs": [],
   "source": [
    "# Perform quality checks here"
   ]
  },
  {
   "cell_type": "markdown",
   "metadata": {},
   "source": [
    "#### 4.3 Data dictionary \n",
    "Create a data dictionary for your data model. For each field, provide a brief description of what the data is and where it came from. You can include the data dictionary in the notebook or in a separate file."
   ]
  },
  {
   "cell_type": "markdown",
   "metadata": {},
   "source": [
    "#### Step 5: Complete Project Write Up\n",
    "* Clearly state the rationale for the choice of tools and technologies, algorithms, methodes for the project.\n",
    "* Propose how often the data should be updated and why. What tools you are used for data simulation in case if it is needed.\n",
    "* Write a description of how you would approach the problem differently if you have another data model or additinal information"
   ]
  },
  {
   "cell_type": "code",
   "execution_count": null,
   "metadata": {},
   "outputs": [],
   "source": []
  },
  {
   "cell_type": "code",
   "execution_count": null,
   "metadata": {},
   "outputs": [],
   "source": []
  },
  {
   "cell_type": "code",
   "execution_count": null,
   "metadata": {},
   "outputs": [],
   "source": []
  },
  {
   "cell_type": "code",
   "execution_count": null,
   "metadata": {},
   "outputs": [],
   "source": []
  },
  {
   "cell_type": "code",
   "execution_count": null,
   "metadata": {},
   "outputs": [],
   "source": []
  },
  {
   "cell_type": "code",
   "execution_count": null,
   "metadata": {},
   "outputs": [],
   "source": []
  }
 ],
 "metadata": {
  "kernelspec": {
   "display_name": "Python 3 (ipykernel)",
   "language": "python",
   "name": "python3"
  },
  "language_info": {
   "codemirror_mode": {
    "name": "ipython",
    "version": 3
   },
   "file_extension": ".py",
   "mimetype": "text/x-python",
   "name": "python",
   "nbconvert_exporter": "python",
   "pygments_lexer": "ipython3",
   "version": "3.10.0"
  }
 },
 "nbformat": 4,
 "nbformat_minor": 4
}

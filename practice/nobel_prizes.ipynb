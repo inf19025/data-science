{
 "cells": [
  {
   "cell_type": "code",
   "execution_count": 1,
   "metadata": {},
   "outputs": [],
   "source": [
    "import pandas as pd\n",
    "import matplotlib.pyplot as plt\n",
    "import seaborn as sns\n",
    "import numpy as np\n",
    "\n",
    "sns.set()\n",
    "\n",
    "nobel = pd.read_csv('archive.csv')\n",
    "\n",
    "wanted_output = nobel.filter(['Full Name', 'Sex'])\n",
    "print(wanted_output)"
   ]
  },
  {
   "cell_type": "code",
   "execution_count": null,
   "metadata": {},
   "outputs": [
    {
     "name": "stdout",
     "output_type": "stream",
     "text": [
      "0      49.0\n",
      "1      62.0\n",
      "2      47.0\n",
      "3      73.0\n",
      "4      79.0\n",
      "       ... \n",
      "964    71.0\n",
      "965    65.0\n",
      "966    82.0\n",
      "967    65.0\n",
      "968    73.0\n",
      "Name: age_at_receival, Length: 969, dtype: float64\n"
     ]
    }
   ],
   "source": [
    "nobel = nobel.assign(age_at_receival=lambda x: pd.to_datetime(x['Year'], format='%Y').dt.year - pd.to_datetime(x['Birth Date'], errors='coerce').dt.year)\n",
    "print(nobel['age_at_receival'])"
   ]
  },
  {
   "cell_type": "code",
   "execution_count": null,
   "metadata": {},
   "outputs": [
    {
     "data": {
      "text/plain": [
       "Text(0.5, 0, 'amount of prizes')"
      ]
     },
     "execution_count": 4,
     "metadata": {},
     "output_type": "execute_result"
    },
    {
     "data": {
      "image/png": "[encoded data removed]",
      "text/plain": [
       "<Figure size 432x288 with 1 Axes>"
      ]
     },
     "metadata": {},
     "output_type": "display_data"
    }
   ],
   "source": [
    "plt.hist(nobel['age_at_receival'])\n",
    "plt.ylabel('age')\n",
    "plt.xlabel('amount of prizes')"
   ]
  },
  {
   "cell_type": "code",
   "execution_count": null,
   "metadata": {},
   "outputs": [
    {
     "name": "stdout",
     "output_type": "stream",
     "text": [
      "90.0\n"
     ]
    }
   ],
   "source": [
    "oldest = nobel['age_at_receival'].max()\n",
    "\n",
    "print(oldest)"
   ]
  },
  {
   "cell_type": "code",
   "execution_count": null,
   "metadata": {},
   "outputs": [
    {
     "name": "stdout",
     "output_type": "stream",
     "text": [
      "17.0\n"
     ]
    }
   ],
   "source": [
    "youngest = nobel['age_at_receival'].min()\n",
    "\n",
    "print(youngest)"
   ]
  },
  {
   "cell_type": "code",
   "execution_count": null,
   "metadata": {},
   "outputs": [
    {
     "data": {
      "text/plain": [
       "(array([61.,  0.,  0.,  0.,  0.,  0.,  0.,  0.,  0.,  2.]),\n",
       " array([2. , 2.1, 2.2, 2.3, 2.4, 2.5, 2.6, 2.7, 2.8, 2.9, 3. ]),\n",
       " <BarContainer object of 10 artists>)"
      ]
     },
     "execution_count": 7,
     "metadata": {},
     "output_type": "execute_result"
    },
    {
     "data": {
      "image/png": "[encoded data removed]",
      "text/plain": [
       "<Figure size 432x288 with 1 Axes>"
      ]
     },
     "metadata": {},
     "output_type": "display_data"
    }
   ],
   "source": [
    "df = pd.DataFrame(nobel)\n",
    "duplicates = df[df.duplicated(['Full Name'], keep=False)]\n",
    "table = duplicates.pivot_table(index=['Full Name'], aggfunc='size')\n",
    "\n",
    "plt.hist(table)"
   ]
  },
  {
   "cell_type": "code",
   "execution_count": null,
   "metadata": {},
   "outputs": [
    {
     "name": "stdout",
     "output_type": "stream",
     "text": [
      "mean age:  59.48400852878465\n",
      "median age:  60.0\n",
      "standard deviation of age:  12.37722027678576\n",
      "variance of age:  153.19558178007657\n",
      "percentile 25:  50.0\n",
      "percentile 50:  60.0\n",
      "percentile 75:  69.0\n",
      "percentile 99:  85.63\n"
     ]
    },
    {
     "data": {
      "image/png": "[encoded data removed]",
      "text/plain": [
       "<Figure size 432x288 with 1 Axes>"
      ]
     },
     "metadata": {},
     "output_type": "display_data"
    }
   ],
   "source": [
    "mean_age = nobel.age_at_receival.mean()\n",
    "print('mean age: ', mean_age)\n",
    "\n",
    "median_age = nobel.age_at_receival.median()\n",
    "print('median age: ', median_age)\n",
    "\n",
    "standard_deviation = nobel.age_at_receival.std()\n",
    "print('standard deviation of age: ', standard_deviation)\n",
    "\n",
    "variance = nobel.age_at_receival.var()\n",
    "print('variance of age: ', variance)\n",
    "\n",
    "percentiles_25 = nobel.age_at_receival.quantile(0.25)\n",
    "percentiles_50 = nobel.age_at_receival.quantile(0.5)\n",
    "percentiles_75 = nobel.age_at_receival.quantile(0.75)\n",
    "percentiles_99 = nobel.age_at_receival.quantile(0.99)\n",
    "\n",
    "print('percentile 25: ', percentiles_25)\n",
    "print('percentile 50: ', percentiles_50)\n",
    "print('percentile 75: ', percentiles_75)\n",
    "print('percentile 99: ', percentiles_99)\n",
    "\n",
    "percentiles = [percentiles_25, percentiles_50, percentiles_75, percentiles_99]\n",
    "\n",
    "def ecdf(data):\n",
    "    # number of data points: n\n",
    "    n = len(data)\n",
    "    # x-data for the ECDF: x\n",
    "    x=np.sort(data)\n",
    "    # y-data for the ECDF: y\n",
    "    y=np.arange(1, n+1)/n\n",
    "    return x,y\n",
    "\n",
    "\n",
    "x,y = ecdf(nobel.age_at_receival)\n",
    "x_perc, y_perc = ecdf(percentiles)\n",
    "\n",
    "plt.plot(x, y)\n",
    "plt.xlabel('Age')\n",
    "plt.ylabel('ECDF')\n",
    "\n",
    "plt.plot(x_perc, y_perc, '.')\n",
    "plt.xlabel('Percenciles')\n",
    "plt.ylabel('ECDF')\n",
    "\n",
    "plt.show()\n"
   ]
  },
  {
   "cell_type": "code",
   "execution_count": null,
   "metadata": {},
   "outputs": [
    {
     "ename": "NameError",
     "evalue": "name 'mean_age' is not defined",
     "output_type": "error",
     "traceback": [
      "\u001b[1;31m---------------------------------------------------------------------------\u001b[0m",
      "\u001b[1;31mNameError\u001b[0m                                 Traceback (most recent call last)",
      "\u001b[1;32mC:\\Users\\MAXIMI~1.HAM\\AppData\\Local\\Temp/ipykernel_2364/2937972760.py\u001b[0m in \u001b[0;36m<module>\u001b[1;34m\u001b[0m\n\u001b[0;32m      1\u001b[0m \u001b[1;32mfrom\u001b[0m \u001b[0mscipy\u001b[0m\u001b[1;33m.\u001b[0m\u001b[0mstats\u001b[0m \u001b[1;32mimport\u001b[0m \u001b[0mpoisson\u001b[0m\u001b[1;33m\u001b[0m\u001b[1;33m\u001b[0m\u001b[0m\n\u001b[1;32m----> 2\u001b[1;33m \u001b[0mprob_for_younger_than_18\u001b[0m \u001b[1;33m=\u001b[0m \u001b[0mpoisson\u001b[0m\u001b[1;33m.\u001b[0m\u001b[0mcdf\u001b[0m\u001b[1;33m(\u001b[0m\u001b[0mk\u001b[0m\u001b[1;33m=\u001b[0m\u001b[1;36m17\u001b[0m\u001b[1;33m,\u001b[0m \u001b[0mmu\u001b[0m\u001b[1;33m=\u001b[0m\u001b[0mmean_age\u001b[0m\u001b[1;33m)\u001b[0m\u001b[1;33m\u001b[0m\u001b[1;33m\u001b[0m\u001b[0m\n\u001b[0m\u001b[0;32m      3\u001b[0m \u001b[1;33m\u001b[0m\u001b[0m\n\u001b[0;32m      4\u001b[0m \u001b[1;32mimport\u001b[0m \u001b[0m_thread\u001b[0m\u001b[1;33m\u001b[0m\u001b[1;33m\u001b[0m\u001b[0m\n\u001b[0;32m      5\u001b[0m \u001b[1;33m\u001b[0m\u001b[0m\n",
      "\u001b[1;31mNameError\u001b[0m: name 'mean_age' is not defined"
     ]
    }
   ],
   "source": [
    "from scipy.stats import poisson\n",
    "prob_for_younger_than_18 = poisson.cdf(k=17, mu=mean_age)\n",
    "\n",
    "import _thread\n",
    "\n",
    "print('probability for winner aged 18 and under: ', prob_for_younger_than_18)\n",
    "\n",
    "def calc_rand_numbers(name, amount):\n",
    "  amount_of_hits = 0\n",
    "  \n",
    "  for i in range(amount):\n",
    "    rand_num = np.random.rand()\n",
    "    print(rand_num)\n",
    "    if rand_num <= prob_for_younger_than_18:\n",
    "      amount_of_hits += 1\n",
    "  \n",
    "  print('%s: %s' % (name, amount_of_hits))\n",
    "\n"
   ]
  }
 ],
 "metadata": {
  "interpreter": {
   "hash": "2db524e06e9f5f4ffedc911c917cb75e12dbc923643829bf417064a77eb14d37"
  },
  "kernelspec": {
   "display_name": "Python 3.8.1 64-bit",
   "name": "python3"
  },
  "language_info": {
   "codemirror_mode": {
    "name": "ipython",
    "version": 3
   },
   "file_extension": ".py",
   "mimetype": "text/x-python",
   "name": "python",
   "nbconvert_exporter": "python",
   "pygments_lexer": "ipython3",
   "version": "3.8.1"
  },
  "orig_nbformat": 4
 },
 "nbformat": 4,
 "nbformat_minor": 2
}
